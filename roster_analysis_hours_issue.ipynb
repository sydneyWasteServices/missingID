{
 "cells": [
  {
   "cell_type": "code",
   "execution_count": 2,
   "id": "7c17cf3a",
   "metadata": {},
   "outputs": [],
   "source": [
    "import pandas as pd\n",
    "import numpy as np"
   ]
  },
  {
   "cell_type": "code",
   "execution_count": 3,
   "id": "b6a463a1",
   "metadata": {},
   "outputs": [],
   "source": [
    "PATH_ROSTER = './14th_2021_roster.xlsx'\n",
    "PATH_SALARY = './14th_2021_timesheet.csv'\n",
    "PATH_EM = './EmployeeID.csv'\n",
    "\n",
    "df_sal = pd.read_csv(PATH_SALARY)\n",
    "df_ros = pd.read_excel(PATH_ROSTER)\n",
    "df_em = pd.read_csv(PATH_EM)\n"
   ]
  },
  {
   "cell_type": "code",
   "execution_count": 11,
   "id": "5a92d30d",
   "metadata": {},
   "outputs": [],
   "source": [
    "df_sal.sort_values('firstname').to_csv('./all_drivers_in_timesheet.csv')"
   ]
  },
  {
   "cell_type": "code",
   "execution_count": 6,
   "id": "7b69fd10",
   "metadata": {},
   "outputs": [
    {
     "data": {
      "text/plain": [
       "1548.35"
      ]
     },
     "execution_count": 6,
     "metadata": {},
     "output_type": "execute_result"
    }
   ],
   "source": [
    "df_sal.Total_hour.sum()"
   ]
  },
  {
   "cell_type": "code",
   "execution_count": 10,
   "id": "385fc836",
   "metadata": {},
   "outputs": [
    {
     "data": {
      "text/html": [
       "<div>\n",
       "<style scoped>\n",
       "    .dataframe tbody tr th:only-of-type {\n",
       "        vertical-align: middle;\n",
       "    }\n",
       "\n",
       "    .dataframe tbody tr th {\n",
       "        vertical-align: top;\n",
       "    }\n",
       "\n",
       "    .dataframe thead th {\n",
       "        text-align: right;\n",
       "    }\n",
       "</style>\n",
       "<table border=\"1\" class=\"dataframe\">\n",
       "  <thead>\n",
       "    <tr style=\"text-align: right;\">\n",
       "      <th></th>\n",
       "      <th>Name</th>\n",
       "      <th>EmployeeID</th>\n",
       "      <th>lastname</th>\n",
       "      <th>firstname</th>\n",
       "      <th>middlename</th>\n",
       "    </tr>\n",
       "  </thead>\n",
       "  <tbody>\n",
       "    <tr>\n",
       "      <th>8</th>\n",
       "      <td>Derkington, Josephine Natasha</td>\n",
       "      <td>swderjos</td>\n",
       "      <td>derkington</td>\n",
       "      <td>josephine</td>\n",
       "      <td>natasha</td>\n",
       "    </tr>\n",
       "    <tr>\n",
       "      <th>12</th>\n",
       "      <td>Fei, Xiaohua</td>\n",
       "      <td>swfeixia</td>\n",
       "      <td>fei</td>\n",
       "      <td>xiaohua</td>\n",
       "      <td>nomiddlename</td>\n",
       "    </tr>\n",
       "    <tr>\n",
       "      <th>13</th>\n",
       "      <td>Fevaleaki, Efalata</td>\n",
       "      <td>swfevefa</td>\n",
       "      <td>fevaleaki</td>\n",
       "      <td>efalata</td>\n",
       "      <td>nomiddlename</td>\n",
       "    </tr>\n",
       "    <tr>\n",
       "      <th>19</th>\n",
       "      <td>Hartanto, Boby</td>\n",
       "      <td>swharbob</td>\n",
       "      <td>hartanto</td>\n",
       "      <td>boby</td>\n",
       "      <td>nomiddlename</td>\n",
       "    </tr>\n",
       "    <tr>\n",
       "      <th>36</th>\n",
       "      <td>Medina, David Fernando</td>\n",
       "      <td>swmedd</td>\n",
       "      <td>medina</td>\n",
       "      <td>david</td>\n",
       "      <td>fernando</td>\n",
       "    </tr>\n",
       "  </tbody>\n",
       "</table>\n",
       "</div>"
      ],
      "text/plain": [
       "                             Name EmployeeID    lastname  firstname  \\\n",
       "8   Derkington, Josephine Natasha   swderjos  derkington  josephine   \n",
       "12                   Fei, Xiaohua   swfeixia         fei    xiaohua   \n",
       "13             Fevaleaki, Efalata   swfevefa   fevaleaki    efalata   \n",
       "19                 Hartanto, Boby   swharbob    hartanto       boby   \n",
       "36         Medina, David Fernando     swmedd      medina      david   \n",
       "\n",
       "      middlename  \n",
       "8        natasha  \n",
       "12  nomiddlename  \n",
       "13  nomiddlename  \n",
       "19  nomiddlename  \n",
       "36      fernando  "
      ]
     },
     "execution_count": 10,
     "metadata": {},
     "output_type": "execute_result"
    }
   ],
   "source": [
    "missing = ['swderjos', 'swharbob', 'swmedd', 'swfeixia', 'swfevefa']\n",
    "df_em[df_em.EmployeeID.isin(missing)]"
   ]
  },
  {
   "cell_type": "code",
   "execution_count": null,
   "id": "1272db44",
   "metadata": {},
   "outputs": [],
   "source": []
  },
  {
   "cell_type": "code",
   "execution_count": null,
   "id": "3699e817",
   "metadata": {},
   "outputs": [],
   "source": []
  },
  {
   "cell_type": "code",
   "execution_count": null,
   "id": "4313717e",
   "metadata": {},
   "outputs": [],
   "source": []
  }
 ],
 "metadata": {
  "kernelspec": {
   "display_name": "Python 3",
   "language": "python",
   "name": "python3"
  },
  "language_info": {
   "codemirror_mode": {
    "name": "ipython",
    "version": 3
   },
   "file_extension": ".py",
   "mimetype": "text/x-python",
   "name": "python",
   "nbconvert_exporter": "python",
   "pygments_lexer": "ipython3",
   "version": "3.7.3"
  }
 },
 "nbformat": 4,
 "nbformat_minor": 5
}
